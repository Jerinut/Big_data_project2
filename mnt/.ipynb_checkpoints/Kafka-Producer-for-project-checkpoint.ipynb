{
 "cells": [
  {
   "cell_type": "code",
   "execution_count": 37,
   "id": "5a8b9a94",
   "metadata": {},
   "outputs": [
    {
     "name": "stdout",
     "output_type": "stream",
     "text": [
      "Requirement already satisfied: confluent_kafka in /opt/conda/lib/python3.11/site-packages (2.4.0)\n",
      "Requirement already satisfied: sseclient in /opt/conda/lib/python3.11/site-packages (0.0.27)\n",
      "Requirement already satisfied: requests>=2.9 in /opt/conda/lib/python3.11/site-packages (from sseclient) (2.31.0)\n",
      "Requirement already satisfied: six in /opt/conda/lib/python3.11/site-packages (from sseclient) (1.16.0)\n",
      "Requirement already satisfied: charset-normalizer<4,>=2 in /opt/conda/lib/python3.11/site-packages (from requests>=2.9->sseclient) (3.3.2)\n",
      "Requirement already satisfied: idna<4,>=2.5 in /opt/conda/lib/python3.11/site-packages (from requests>=2.9->sseclient) (3.7)\n",
      "Requirement already satisfied: urllib3<3,>=1.21.1 in /opt/conda/lib/python3.11/site-packages (from requests>=2.9->sseclient) (2.2.1)\n",
      "Requirement already satisfied: certifi>=2017.4.17 in /opt/conda/lib/python3.11/site-packages (from requests>=2.9->sseclient) (2024.2.2)\n"
     ]
    }
   ],
   "source": [
    "!pip install confluent_kafka sseclient"
   ]
  },
  {
   "cell_type": "code",
   "execution_count": 38,
   "id": "2e778584",
   "metadata": {},
   "outputs": [],
   "source": [
    "from confluent_kafka import SerializingProducer, DeserializingConsumer\n",
    "from confluent_kafka.serialization import StringSerializer, StringDeserializer\n",
    "from confluent_kafka.admin import AdminClient, NewTopic\n",
    "from uuid import uuid4\n",
    "import sys, random\n",
    "\n",
    "brokers = \"kafka1:9092,kafka2:9093\""
   ]
  },
  {
   "cell_type": "code",
   "execution_count": 39,
   "id": "ef7871fb",
   "metadata": {},
   "outputs": [],
   "source": [
    "pconf = {\n",
    "    'bootstrap.servers': brokers,\n",
    "    'partitioner': 'murmur2_random',\n",
    "    'key.serializer': StringSerializer('utf_8'),\n",
    "    'value.serializer':  StringSerializer('utf_8')\n",
    "}"
   ]
  },
  {
   "cell_type": "code",
   "execution_count": 40,
   "id": "46183cdf",
   "metadata": {},
   "outputs": [],
   "source": [
    "p = SerializingProducer(pconf)"
   ]
  },
  {
   "cell_type": "code",
   "execution_count": 41,
   "id": "be76611f",
   "metadata": {},
   "outputs": [],
   "source": [
    "stocks = \"sample.csv\""
   ]
  },
  {
   "cell_type": "code",
   "execution_count": 42,
   "id": "fd849c8f",
   "metadata": {},
   "outputs": [],
   "source": [
    "from datetime import datetime  \n",
    "  #2023-10-13T08:16:13Z\n",
    "def construct_stock(row):\n",
    "    time_stamp = time.time()\n",
    "    date_time = datetime.fromtimestamp(time_stamp)\n",
    "    str_date_time = date_time.strftime(\"%Y-%m-%dT%H:%M:%SZ\") #\"%d-%m-%Y, %H:%M:%S\"\n",
    "    stock = {\"TODO\": row[6],\n",
    "             \"TODO\": float(row[2]),\n",
    "             \"timestamp\":str_date_time\n",
    "             }\n",
    "    return stock"
   ]
  },
  {
   "cell_type": "code",
   "execution_count": 43,
   "id": "06e266f9",
   "metadata": {},
   "outputs": [
    {
     "ename": "FileNotFoundError",
     "evalue": "[Errno 2] No such file or directory: 'sample .csv'",
     "output_type": "error",
     "traceback": [
      "\u001b[0;31m---------------------------------------------------------------------------\u001b[0m",
      "\u001b[0;31mFileNotFoundError\u001b[0m                         Traceback (most recent call last)",
      "Cell \u001b[0;32mIn[43], line 4\u001b[0m\n\u001b[1;32m      2\u001b[0m \u001b[38;5;28;01mimport\u001b[39;00m \u001b[38;5;21;01mtime\u001b[39;00m\n\u001b[1;32m      3\u001b[0m n \u001b[38;5;241m=\u001b[39m \u001b[38;5;241m0\u001b[39m\n\u001b[0;32m----> 4\u001b[0m \u001b[38;5;28;01mwith\u001b[39;00m \u001b[38;5;28;43mopen\u001b[39;49m\u001b[43m(\u001b[49m\u001b[43mstocks\u001b[49m\u001b[43m)\u001b[49m \u001b[38;5;28;01mas\u001b[39;00m csv_file:\n\u001b[1;32m      5\u001b[0m     csv_reader \u001b[38;5;241m=\u001b[39m csv\u001b[38;5;241m.\u001b[39mreader(csv_file, delimiter\u001b[38;5;241m=\u001b[39m\u001b[38;5;124m'\u001b[39m\u001b[38;5;124m,\u001b[39m\u001b[38;5;124m'\u001b[39m)\n\u001b[1;32m      6\u001b[0m     \u001b[38;5;28;01mtry\u001b[39;00m:\n",
      "File \u001b[0;32m/opt/conda/lib/python3.11/site-packages/IPython/core/interactiveshell.py:324\u001b[0m, in \u001b[0;36m_modified_open\u001b[0;34m(file, *args, **kwargs)\u001b[0m\n\u001b[1;32m    317\u001b[0m \u001b[38;5;28;01mif\u001b[39;00m file \u001b[38;5;129;01min\u001b[39;00m {\u001b[38;5;241m0\u001b[39m, \u001b[38;5;241m1\u001b[39m, \u001b[38;5;241m2\u001b[39m}:\n\u001b[1;32m    318\u001b[0m     \u001b[38;5;28;01mraise\u001b[39;00m \u001b[38;5;167;01mValueError\u001b[39;00m(\n\u001b[1;32m    319\u001b[0m         \u001b[38;5;124mf\u001b[39m\u001b[38;5;124m\"\u001b[39m\u001b[38;5;124mIPython won\u001b[39m\u001b[38;5;124m'\u001b[39m\u001b[38;5;124mt let you open fd=\u001b[39m\u001b[38;5;132;01m{\u001b[39;00mfile\u001b[38;5;132;01m}\u001b[39;00m\u001b[38;5;124m by default \u001b[39m\u001b[38;5;124m\"\u001b[39m\n\u001b[1;32m    320\u001b[0m         \u001b[38;5;124m\"\u001b[39m\u001b[38;5;124mas it is likely to crash IPython. If you know what you are doing, \u001b[39m\u001b[38;5;124m\"\u001b[39m\n\u001b[1;32m    321\u001b[0m         \u001b[38;5;124m\"\u001b[39m\u001b[38;5;124myou can use builtins\u001b[39m\u001b[38;5;124m'\u001b[39m\u001b[38;5;124m open.\u001b[39m\u001b[38;5;124m\"\u001b[39m\n\u001b[1;32m    322\u001b[0m     )\n\u001b[0;32m--> 324\u001b[0m \u001b[38;5;28;01mreturn\u001b[39;00m \u001b[43mio_open\u001b[49m\u001b[43m(\u001b[49m\u001b[43mfile\u001b[49m\u001b[43m,\u001b[49m\u001b[43m \u001b[49m\u001b[38;5;241;43m*\u001b[39;49m\u001b[43margs\u001b[49m\u001b[43m,\u001b[49m\u001b[43m \u001b[49m\u001b[38;5;241;43m*\u001b[39;49m\u001b[38;5;241;43m*\u001b[39;49m\u001b[43mkwargs\u001b[49m\u001b[43m)\u001b[49m\n",
      "\u001b[0;31mFileNotFoundError\u001b[0m: [Errno 2] No such file or directory: 'sample .csv'"
     ]
    }
   ],
   "source": [
    "import csv, json\n",
    "import time\n",
    "n = 0\n",
    "with open(stocks) as csv_file:\n",
    "    csv_reader = csv.reader(csv_file, delimiter=',')\n",
    "    try:\n",
    "        for row in csv_reader:\n",
    "            #if n == 100:\n",
    "             #  break\n",
    "            stock = construct_stock(row)\n",
    "            print(stock)\n",
    "            p.produce('stock', value=json.dumps(stock))\n",
    "            p.poll(0)\n",
    "            p.flush()\n",
    "            time.sleep(0.5)\n",
    "            #n = n + 1\n",
    "    except BufferError:\n",
    "        sys.stderr.write('%% Local producer queue is full (%d messages awaiting delivery): try again\\n' % len(p))\n",
    "    "
   ]
  },
  {
   "cell_type": "markdown",
   "id": "5d0a3766-7c7e-4792-8929-e92740f7aed7",
   "metadata": {},
   "source": [
    "### Use only if you need to purge all the messages in the queue"
   ]
  },
  {
   "cell_type": "code",
   "execution_count": null,
   "id": "c449281e-8c82-4d8f-a9db-030d2dcdcf07",
   "metadata": {},
   "outputs": [],
   "source": [
    "brokers = \"kafka1:9092,kafka2:9093\"\n",
    "\n",
    "admin_client = AdminClient({\"bootstrap.servers\":brokers})\n",
    "admin_client.delete_topics(topics=['stock'])"
   ]
  },
  {
   "cell_type": "code",
   "execution_count": null,
   "id": "25d88831-9a75-44ce-8486-8d0ece9f92fb",
   "metadata": {},
   "outputs": [],
   "source": [
    "import os\n",
    "import csv\n",
    "import json\n",
    "import time\n",
    "from confluent_kafka import SerializingProducer\n",
    "from confluent_kafka.serialization import StringSerializer\n",
    "from datetime import datetime\n",
    "\n",
    "# Kafka configuration\n",
    "brokers = \"kafka1:9092,kafka2:9093\"\n",
    "pconf = {\n",
    "    'bootstrap.servers': brokers,\n",
    "    'key.serializer': StringSerializer('utf_8'),\n",
    "    'value.serializer': StringSerializer('utf_8')\n",
    "}\n",
    "producer = SerializingProducer(pconf)\n",
    "\n",
    "def construct_record(row):\n",
    "    record = {\n",
    "        \"medallion\": row[0],\n",
    "        \"hack_license\": row[1],\n",
    "        \"pickup_datetime\": row[2],\n",
    "        \"dropoff_datetime\": row[3],\n",
    "        \"pickup_longitude\": float(row[4]),\n",
    "        \"pickup_latitude\": float(row[5]),\n",
    "        \"dropoff_longitude\": float(row[6]),\n",
    "        \"dropoff_latitude\": float(row[7])\n",
    "    }\n",
    "    return record\n",
    "\n",
    "def produce_data(file_path):\n",
    "    with open(file_path, mode='r') as csv_file:\n",
    "        csv_reader = csv.reader(csv_file)\n",
    "        next(csv_reader)  # Skip header\n",
    "        for row in csv_reader:\n",
    "            record = construct_record(row)\n",
    "            producer.produce('taxi_topic', value=json.dumps(record))\n",
    "            producer.poll(0)\n",
    "            time.sleep(0.5)\n",
    "\n",
    "# For Jupyter Notebook\n",
    "current_dir = os.getcwd()\n",
    "print(\"Current working directory:\", current_dir)\n",
    "print(\"Files in current directory before renaming:\", os.listdir(current_dir))\n",
    "\n",
    "# Rename the file to remove the space\n",
    "old_name = 'sample .csv'\n",
    "new_name = 'sample.csv'\n",
    "if old_name in os.listdir(current_dir):\n",
    "    os.rename(old_name, new_name)\n",
    "    print(f\"Renamed '{old_name}' to '{new_name}'.\")\n",
    "\n",
    "print(\"Files in current directory after renaming:\", os.listdir(current_dir))\n",
    "\n",
    "file_path = os.path.join(current_dir, new_name)\n",
    "print(f\"Looking for file at: {file_path}\")\n",
    "\n",
    "if os.path.exists(file_path):\n",
    "    print(\"File found. Starting to produce data...\")\n",
    "    produce_data(file_path)\n",
    "else:\n",
    "    print(\"File not found. Please check the file path.\")\n"
   ]
  },
  {
   "cell_type": "code",
   "execution_count": null,
   "id": "eecb3506-3f73-4ac1-934f-5b04bd4f504a",
   "metadata": {},
   "outputs": [],
   "source": [
    "import os\n",
    "\n",
    "print(\"Current working directory:\", os.getcwd())\n",
    "print(\"Files in current directory:\", os.listdir(os.getcwd()))\n"
   ]
  },
  {
   "cell_type": "code",
   "execution_count": null,
   "id": "8f4eec2d-70e0-41cc-b907-23a4e95d3f89",
   "metadata": {},
   "outputs": [],
   "source": []
  },
  {
   "cell_type": "code",
   "execution_count": null,
   "id": "1ca22e76-3c0b-4375-899f-239852221422",
   "metadata": {},
   "outputs": [],
   "source": []
  }
 ],
 "metadata": {
  "kernelspec": {
   "display_name": "Python 3 (ipykernel)",
   "language": "python",
   "name": "python3"
  },
  "language_info": {
   "codemirror_mode": {
    "name": "ipython",
    "version": 3
   },
   "file_extension": ".py",
   "mimetype": "text/x-python",
   "name": "python",
   "nbconvert_exporter": "python",
   "pygments_lexer": "ipython3",
   "version": "3.11.9"
  }
 },
 "nbformat": 4,
 "nbformat_minor": 5
}
